{
 "cells": [
  {
   "cell_type": "code",
   "execution_count": 58,
   "metadata": {},
   "outputs": [],
   "source": [
    "import mal\n",
    "import numpy as np\n",
    "import pandas as pd\n",
    "import matplotlib.pyplot as plt\n",
    "\n",
    "import time"
   ]
  },
  {
   "cell_type": "code",
   "execution_count": 25,
   "metadata": {},
   "outputs": [],
   "source": [
    "# There are only 10,547 in the MAL database according to this API\n",
    "ex = mal.Anime(10_547)"
   ]
  },
  {
   "cell_type": "code",
   "execution_count": 52,
   "metadata": {},
   "outputs": [],
   "source": [
    "ex2 = mal.Anime(6)"
   ]
  },
  {
   "cell_type": "code",
   "execution_count": 51,
   "metadata": {},
   "outputs": [
    {
     "name": "stdout",
     "output_type": "stream",
     "text": [
      "Cowboy Bebop: Tengoku no Tobira\n"
     ]
    }
   ],
   "source": [
    "print(ex2.title)"
   ]
  },
  {
   "cell_type": "code",
   "execution_count": 40,
   "metadata": {},
   "outputs": [],
   "source": [
    "nagatoro = mal.AnimeSearch(\"nagatoro\")"
   ]
  },
  {
   "cell_type": "code",
   "execution_count": 42,
   "metadata": {},
   "outputs": [
    {
     "name": "stdout",
     "output_type": "stream",
     "text": [
      "Ijiranaide, Nagatoro-san\n"
     ]
    }
   ],
   "source": [
    "print(nagatoro.results[0].title)"
   ]
  },
  {
   "cell_type": "code",
   "execution_count": 63,
   "metadata": {},
   "outputs": [
    {
     "name": "stdout",
     "output_type": "stream",
     "text": [
      "Finished counting animes...SEE RESULTS!\n",
      "There are 9 numbers not correlated to an anime\n",
      "And there are 11 numbers that represent an anime\n"
     ]
    }
   ],
   "source": [
    "count = 1\n",
    "no_anime = 0\n",
    "actual_anime = 0\n",
    "while count <= 20:\n",
    "    time.sleep(5)\n",
    "    try:\n",
    "        a = mal.Anime(count)\n",
    "    except ValueError:\n",
    "        no_anime += 1\n",
    "    else:\n",
    "        actual_anime += 1\n",
    "    \n",
    "    count += 1\n",
    "\n",
    "print('Finished counting animes...SEE RESULTS!')\n",
    "print('There are {} numbers not correlated to an anime'.format(no_anime))\n",
    "print('And there are {} numbers that represent an anime'.format(actual_anime))"
   ]
  },
  {
   "cell_type": "code",
   "execution_count": 60,
   "metadata": {},
   "outputs": [
    {
     "name": "stdout",
     "output_type": "stream",
     "text": [
      "hi\n",
      "hi...5 secs later\n"
     ]
    }
   ],
   "source": [
    "print('hi')\n",
    "time.sleep(10)\n",
    "print('hi...5 secs later')"
   ]
  },
  {
   "cell_type": "code",
   "execution_count": null,
   "metadata": {},
   "outputs": [],
   "source": []
  }
 ],
 "metadata": {
  "kernelspec": {
   "display_name": "Python 3",
   "language": "python",
   "name": "python3"
  },
  "language_info": {
   "codemirror_mode": {
    "name": "ipython",
    "version": 3
   },
   "file_extension": ".py",
   "mimetype": "text/x-python",
   "name": "python",
   "nbconvert_exporter": "python",
   "pygments_lexer": "ipython3",
   "version": "3.8.3"
  }
 },
 "nbformat": 4,
 "nbformat_minor": 4
}
